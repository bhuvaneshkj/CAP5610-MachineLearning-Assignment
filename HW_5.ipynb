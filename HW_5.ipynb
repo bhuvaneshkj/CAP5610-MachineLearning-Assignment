{
 "cells": [
  {
   "cell_type": "code",
   "execution_count": 60,
   "metadata": {},
   "outputs": [],
   "source": [
    "import pandas as pd\n",
    "from sklearn import datasets\n",
    "import numpy as np\n",
    "import warnings\n",
    "warnings.filterwarnings('ignore')"
   ]
  },
  {
   "cell_type": "markdown",
   "metadata": {},
   "source": [
    "## Importing IRIS Dataset "
   ]
  },
  {
   "cell_type": "code",
   "execution_count": 3,
   "metadata": {},
   "outputs": [],
   "source": [
    "df=pd.read_csv(r'C:\\Users\\chat2\\Downloads\\Iris.csv')\n",
    "df1=df.copy()"
   ]
  },
  {
   "cell_type": "code",
   "execution_count": 90,
   "metadata": {},
   "outputs": [
    {
     "data": {
      "text/html": [
       "<div>\n",
       "<style scoped>\n",
       "    .dataframe tbody tr th:only-of-type {\n",
       "        vertical-align: middle;\n",
       "    }\n",
       "\n",
       "    .dataframe tbody tr th {\n",
       "        vertical-align: top;\n",
       "    }\n",
       "\n",
       "    .dataframe thead th {\n",
       "        text-align: right;\n",
       "    }\n",
       "</style>\n",
       "<table border=\"1\" class=\"dataframe\">\n",
       "  <thead>\n",
       "    <tr style=\"text-align: right;\">\n",
       "      <th></th>\n",
       "      <th>Id</th>\n",
       "      <th>SepalLengthCm</th>\n",
       "      <th>SepalWidthCm</th>\n",
       "      <th>PetalLengthCm</th>\n",
       "      <th>PetalWidthCm</th>\n",
       "      <th>Species</th>\n",
       "    </tr>\n",
       "  </thead>\n",
       "  <tbody>\n",
       "    <tr>\n",
       "      <td>0</td>\n",
       "      <td>1</td>\n",
       "      <td>5.1</td>\n",
       "      <td>3.5</td>\n",
       "      <td>1.4</td>\n",
       "      <td>0.2</td>\n",
       "      <td>Iris-setosa</td>\n",
       "    </tr>\n",
       "    <tr>\n",
       "      <td>1</td>\n",
       "      <td>2</td>\n",
       "      <td>4.9</td>\n",
       "      <td>3.0</td>\n",
       "      <td>1.4</td>\n",
       "      <td>0.2</td>\n",
       "      <td>Iris-setosa</td>\n",
       "    </tr>\n",
       "    <tr>\n",
       "      <td>2</td>\n",
       "      <td>3</td>\n",
       "      <td>4.7</td>\n",
       "      <td>3.2</td>\n",
       "      <td>1.3</td>\n",
       "      <td>0.2</td>\n",
       "      <td>Iris-setosa</td>\n",
       "    </tr>\n",
       "    <tr>\n",
       "      <td>3</td>\n",
       "      <td>4</td>\n",
       "      <td>4.6</td>\n",
       "      <td>3.1</td>\n",
       "      <td>1.5</td>\n",
       "      <td>0.2</td>\n",
       "      <td>Iris-setosa</td>\n",
       "    </tr>\n",
       "    <tr>\n",
       "      <td>4</td>\n",
       "      <td>5</td>\n",
       "      <td>5.0</td>\n",
       "      <td>3.6</td>\n",
       "      <td>1.4</td>\n",
       "      <td>0.2</td>\n",
       "      <td>Iris-setosa</td>\n",
       "    </tr>\n",
       "  </tbody>\n",
       "</table>\n",
       "</div>"
      ],
      "text/plain": [
       "   Id  SepalLengthCm  SepalWidthCm  PetalLengthCm  PetalWidthCm      Species\n",
       "0   1            5.1           3.5            1.4           0.2  Iris-setosa\n",
       "1   2            4.9           3.0            1.4           0.2  Iris-setosa\n",
       "2   3            4.7           3.2            1.3           0.2  Iris-setosa\n",
       "3   4            4.6           3.1            1.5           0.2  Iris-setosa\n",
       "4   5            5.0           3.6            1.4           0.2  Iris-setosa"
      ]
     },
     "execution_count": 90,
     "metadata": {},
     "output_type": "execute_result"
    }
   ],
   "source": [
    "df.shape\n",
    "df.head()"
   ]
  },
  {
   "cell_type": "code",
   "execution_count": null,
   "metadata": {},
   "outputs": [],
   "source": []
  },
  {
   "cell_type": "markdown",
   "metadata": {},
   "source": [
    "## Implementing a custom Kfold Cross Validation Algorithm:\n",
    "\t1. Shuffle the dataset initially\n",
    "\t2. use array_split() to split the data into k equal parts\n",
    "\t3. append each folds (splits) to a list\n",
    "\t4. split train and test data from each fold\n",
    "\t\t4.1.1. Include the first fold data in loop as test dataset\n",
    "\t\t4.1.2 Append the rest fold data together provided the test data is not included\n",
    "\t\t4.1.2 Append the rest fold data together provided the test data is not included\n",
    "\t\t4.1.3 Append the new dataset as Train dataset.\n",
    "\t5. Slice the dataset for predictor and Response variable respectively.\n"
   ]
  },
  {
   "cell_type": "code",
   "execution_count": 217,
   "metadata": {},
   "outputs": [
    {
     "data": {
      "text/html": [
       "<div>\n",
       "<style scoped>\n",
       "    .dataframe tbody tr th:only-of-type {\n",
       "        vertical-align: middle;\n",
       "    }\n",
       "\n",
       "    .dataframe tbody tr th {\n",
       "        vertical-align: top;\n",
       "    }\n",
       "\n",
       "    .dataframe thead th {\n",
       "        text-align: right;\n",
       "    }\n",
       "</style>\n",
       "<table border=\"1\" class=\"dataframe\">\n",
       "  <thead>\n",
       "    <tr style=\"text-align: right;\">\n",
       "      <th></th>\n",
       "      <th>1</th>\n",
       "      <th>2</th>\n",
       "      <th>3</th>\n",
       "      <th>4</th>\n",
       "    </tr>\n",
       "  </thead>\n",
       "  <tbody>\n",
       "    <tr>\n",
       "      <td>0</td>\n",
       "      <td>5.8</td>\n",
       "      <td>2.7</td>\n",
       "      <td>3.9</td>\n",
       "      <td>1.2</td>\n",
       "    </tr>\n",
       "    <tr>\n",
       "      <td>1</td>\n",
       "      <td>6.9</td>\n",
       "      <td>3.1</td>\n",
       "      <td>4.9</td>\n",
       "      <td>1.5</td>\n",
       "    </tr>\n",
       "    <tr>\n",
       "      <td>2</td>\n",
       "      <td>6.5</td>\n",
       "      <td>3</td>\n",
       "      <td>5.2</td>\n",
       "      <td>2</td>\n",
       "    </tr>\n",
       "    <tr>\n",
       "      <td>3</td>\n",
       "      <td>5.5</td>\n",
       "      <td>3.5</td>\n",
       "      <td>1.3</td>\n",
       "      <td>0.2</td>\n",
       "    </tr>\n",
       "    <tr>\n",
       "      <td>4</td>\n",
       "      <td>5.9</td>\n",
       "      <td>3</td>\n",
       "      <td>4.2</td>\n",
       "      <td>1.5</td>\n",
       "    </tr>\n",
       "    <tr>\n",
       "      <td>...</td>\n",
       "      <td>...</td>\n",
       "      <td>...</td>\n",
       "      <td>...</td>\n",
       "      <td>...</td>\n",
       "    </tr>\n",
       "    <tr>\n",
       "      <td>115</td>\n",
       "      <td>5</td>\n",
       "      <td>3.4</td>\n",
       "      <td>1.6</td>\n",
       "      <td>0.4</td>\n",
       "    </tr>\n",
       "    <tr>\n",
       "      <td>116</td>\n",
       "      <td>6.4</td>\n",
       "      <td>2.8</td>\n",
       "      <td>5.6</td>\n",
       "      <td>2.1</td>\n",
       "    </tr>\n",
       "    <tr>\n",
       "      <td>117</td>\n",
       "      <td>6.6</td>\n",
       "      <td>2.9</td>\n",
       "      <td>4.6</td>\n",
       "      <td>1.3</td>\n",
       "    </tr>\n",
       "    <tr>\n",
       "      <td>118</td>\n",
       "      <td>7.9</td>\n",
       "      <td>3.8</td>\n",
       "      <td>6.4</td>\n",
       "      <td>2</td>\n",
       "    </tr>\n",
       "    <tr>\n",
       "      <td>119</td>\n",
       "      <td>5.5</td>\n",
       "      <td>2.3</td>\n",
       "      <td>4</td>\n",
       "      <td>1.3</td>\n",
       "    </tr>\n",
       "  </tbody>\n",
       "</table>\n",
       "<p>120 rows × 4 columns</p>\n",
       "</div>"
      ],
      "text/plain": [
       "       1    2    3    4\n",
       "0    5.8  2.7  3.9  1.2\n",
       "1    6.9  3.1  4.9  1.5\n",
       "2    6.5    3  5.2    2\n",
       "3    5.5  3.5  1.3  0.2\n",
       "4    5.9    3  4.2  1.5\n",
       "..   ...  ...  ...  ...\n",
       "115    5  3.4  1.6  0.4\n",
       "116  6.4  2.8  5.6  2.1\n",
       "117  6.6  2.9  4.6  1.3\n",
       "118  7.9  3.8  6.4    2\n",
       "119  5.5  2.3    4  1.3\n",
       "\n",
       "[120 rows x 4 columns]"
      ]
     },
     "execution_count": 217,
     "metadata": {},
     "output_type": "execute_result"
    }
   ],
   "source": [
    "\n",
    "def kfold(input_dataframe,k):\n",
    "    Datasets=[]\n",
    "    \n",
    "    input_dataframe1=input_dataframe.sample(frac=1)\n",
    "    fold1,fold2,fold3,fold4,fold5=np.array_split(input_dataframe1,k)\n",
    "    Datasets.append(fold1)\n",
    "    Datasets.append(fold2)\n",
    "    Datasets.append(fold3)\n",
    "    Datasets.append(fold4)\n",
    "    Datasets.append(fold5)\n",
    "    return Datasets\n",
    "    \n",
    "splits=kfold(input_dataframe=df1,k=5)\n",
    "train=[]\n",
    "test=[]\n",
    "for i in range(0,len(splits)):   \n",
    "    test.append(splits[i])\n",
    "    train.append(pd.DataFrame(np.concatenate(splits[:i]+splits[i+1:])))\n",
    "train[0].iloc[:,1:5]\n",
    "#print(train[0].iloc[:,1:5].shape)\n",
    "#print(test[0].iloc[:,1:5].shape)\n"
   ]
  },
  {
   "cell_type": "markdown",
   "metadata": {},
   "source": [
    "## Implementing KNN\n",
    "\t •\tOnce the Train and Test dataset is obtained for various folds, We tend to fit the KNN Model from sklearn and find the accuracy of each model for each Fold.\n",
    "•\tWe find the Average of accuracy to determine the overall performance of the model. \n",
    "•\tAverage Accuracy of KNN Model from 5 different Folds – 0.9667\n"
   ]
  },
  {
   "cell_type": "code",
   "execution_count": 95,
   "metadata": {},
   "outputs": [],
   "source": [
    "from sklearn.neighbors import KNeighborsClassifier\n",
    "from sklearn.metrics import accuracy_score\n",
    "from sklearn.tree import DecisionTreeClassifier"
   ]
  },
  {
   "cell_type": "code",
   "execution_count": 220,
   "metadata": {},
   "outputs": [
    {
     "name": "stdout",
     "output_type": "stream",
     "text": [
      "{'KNN accuracy': [0.9333333333333333, 1.0, 0.9666666666666667, 0.9333333333333333, 1.0]}\n",
      "Average KNN Accuracy: 0.9666666666666666\n"
     ]
    }
   ],
   "source": [
    "knn={'KNN accuracy':[]}\n",
    "acc_sum=0\n",
    "k=5\n",
    "for i in range(0,len(train)):\n",
    "    \n",
    "    neigh = KNeighborsClassifier(n_neighbors=k)\n",
    "    neigh.fit(train[i].iloc[:,1:5],train[i].iloc[:,-1:])\n",
    "    predict_neigh=neigh.predict(test[i].iloc[:,1:5])\n",
    "    acc=accuracy_score(test[i].iloc[:,-1:],predict_neigh)\n",
    "    #print(predict_neigh)\n",
    "    #print(test[i].iloc[:9,-1:])\n",
    "    knn['KNN accuracy'].append(acc)\n",
    "    acc_sum=acc+acc_sum\n",
    "    \n",
    "print(knn)\n",
    "aggreagate_accuracy_knn=acc_sum/len(train)\n",
    "print(\"Average KNN Accuracy: \"+str(aggreagate_accuracy_knn))\n"
   ]
  },
  {
   "cell_type": "markdown",
   "metadata": {},
   "source": [
    "## Implementing Decssion Tree\n",
    "\n",
    "•\tDecision Tree model is fit on the various folds of data.\n",
    "•\tSklearn DecisionTreeClassifier() is used for fitting model.\n",
    "•\tAverage Accuracy of Decision Tree Model for various fold is 0.9466\n"
   ]
  },
  {
   "cell_type": "code",
   "execution_count": 222,
   "metadata": {},
   "outputs": [
    {
     "name": "stdout",
     "output_type": "stream",
     "text": [
      "{'DecissionTree accuracy': [0.9, 1.0, 0.9, 0.9333333333333333, 1.0]}\n",
      "Average DecissionTree Accuracy: 0.9466666666666667\n"
     ]
    }
   ],
   "source": [
    "DT={'DecissionTree accuracy':[]}\n",
    "acc_sum_dt=0\n",
    "for i in range(0,len(train)):\n",
    "    \n",
    "    decision_tree = DecisionTreeClassifier()\n",
    "    decision_tree.fit(train[i].iloc[:,1:5],train[i].iloc[:,-1:])\n",
    "    predict_tree=decision_tree.predict(test[i].iloc[:,1:5])\n",
    "    acc_DT=accuracy_score(test[i].iloc[:,-1:],predict_tree)\n",
    "#     print(predict_tree)\n",
    "#     print(test[i].iloc[:9,-1:])\n",
    "    DT['DecissionTree accuracy'].append(acc_DT)\n",
    "    acc_sum_dt=acc_DT+acc_sum_dt\n",
    "    \n",
    "print(DT)\n",
    "aggreagate_accuracy_dt=acc_sum_dt/len(train)\n",
    "\n",
    "print(\"Average DecissionTree Accuracy: \"+str(aggreagate_accuracy_dt))\n"
   ]
  },
  {
   "cell_type": "code",
   "execution_count": 223,
   "metadata": {},
   "outputs": [
    {
     "name": "stdout",
     "output_type": "stream",
     "text": [
      "{'0': {'1': [0.9333333333333333, 0.9, 0.9666666666666667, 0.9, 0.9333333333333333, 0.9, 0.9666666666666667, 0.9333333333333333, 0.9666666666666667], '2': [0.9333333333333333, 0.9, 0.9666666666666667, 0.9, 0.9333333333333333, 0.9, 0.9666666666666667, 0.9333333333333333, 0.9666666666666667], '3': [0.9333333333333333, 0.9, 0.9666666666666667, 0.9, 0.9333333333333333, 0.9, 0.9666666666666667, 0.9333333333333333, 0.9666666666666667], '4': [0.9333333333333333, 0.9, 0.9666666666666667, 0.9, 0.9333333333333333, 0.9, 0.9666666666666667, 0.9333333333333333, 0.9666666666666667], '5': [0.9333333333333333, 0.9, 0.9666666666666667, 0.9, 0.9333333333333333, 0.9, 0.9666666666666667, 0.9333333333333333, 0.9666666666666667], '6': [0.9333333333333333, 0.9, 0.9666666666666667, 0.9, 0.9333333333333333, 0.9, 0.9666666666666667, 0.9333333333333333, 0.9666666666666667], '7': [0.9333333333333333, 0.9, 0.9666666666666667, 0.9, 0.9333333333333333, 0.9, 0.9666666666666667, 0.9333333333333333, 0.9666666666666667], '8': [0.9333333333333333, 0.9, 0.9666666666666667, 0.9, 0.9333333333333333, 0.9, 0.9666666666666667, 0.9333333333333333, 0.9666666666666667], '9': [0.9333333333333333, 0.9, 0.9666666666666667, 0.9, 0.9333333333333333, 0.9, 0.9666666666666667, 0.9333333333333333, 0.9666666666666667]}, '1': {'1': [0.9666666666666667, 0.9666666666666667, 1.0, 1.0, 1.0, 1.0, 1.0, 1.0, 1.0], '2': [0.9666666666666667, 0.9666666666666667, 1.0, 1.0, 1.0, 1.0, 1.0, 1.0, 1.0], '3': [0.9666666666666667, 0.9666666666666667, 1.0, 1.0, 1.0, 1.0, 1.0, 1.0, 1.0], '4': [0.9666666666666667, 0.9666666666666667, 1.0, 1.0, 1.0, 1.0, 1.0, 1.0, 1.0], '5': [0.9666666666666667, 0.9666666666666667, 1.0, 1.0, 1.0, 1.0, 1.0, 1.0, 1.0], '6': [0.9666666666666667, 0.9666666666666667, 1.0, 1.0, 1.0, 1.0, 1.0, 1.0, 1.0], '7': [0.9666666666666667, 0.9666666666666667, 1.0, 1.0, 1.0, 1.0, 1.0, 1.0, 1.0], '8': [0.9666666666666667, 0.9666666666666667, 1.0, 1.0, 1.0, 1.0, 1.0, 1.0, 1.0], '9': [0.9666666666666667, 0.9666666666666667, 1.0, 1.0, 1.0, 1.0, 1.0, 1.0, 1.0]}, '2': {'1': [0.9333333333333333, 0.9, 0.9666666666666667, 0.9666666666666667, 0.9666666666666667, 1.0, 0.9666666666666667, 1.0, 0.9666666666666667], '2': [0.9333333333333333, 0.9, 0.9666666666666667, 0.9666666666666667, 0.9666666666666667, 1.0, 0.9666666666666667, 1.0, 0.9666666666666667], '3': [0.9333333333333333, 0.9, 0.9666666666666667, 0.9666666666666667, 0.9666666666666667, 1.0, 0.9666666666666667, 1.0, 0.9666666666666667], '4': [0.9333333333333333, 0.9, 0.9666666666666667, 0.9666666666666667, 0.9666666666666667, 1.0, 0.9666666666666667, 1.0, 0.9666666666666667], '5': [0.9333333333333333, 0.9, 0.9666666666666667, 0.9666666666666667, 0.9666666666666667, 1.0, 0.9666666666666667, 1.0, 0.9666666666666667], '6': [0.9333333333333333, 0.9, 0.9666666666666667, 0.9666666666666667, 0.9666666666666667, 1.0, 0.9666666666666667, 1.0, 0.9666666666666667], '7': [0.9333333333333333, 0.9, 0.9666666666666667, 0.9666666666666667, 0.9666666666666667, 1.0, 0.9666666666666667, 1.0, 0.9666666666666667], '8': [0.9333333333333333, 0.9, 0.9666666666666667, 0.9666666666666667, 0.9666666666666667, 1.0, 0.9666666666666667, 1.0, 0.9666666666666667], '9': [0.9333333333333333, 0.9, 0.9666666666666667, 0.9666666666666667, 0.9666666666666667, 1.0, 0.9666666666666667, 1.0, 0.9666666666666667]}, '3': {'1': [0.9, 0.9, 0.9333333333333333, 0.9333333333333333, 0.9333333333333333, 0.9666666666666667, 0.9666666666666667, 0.9666666666666667, 0.9666666666666667], '2': [0.9, 0.9, 0.9333333333333333, 0.9333333333333333, 0.9333333333333333, 0.9666666666666667, 0.9666666666666667, 0.9666666666666667, 0.9666666666666667], '3': [0.9, 0.9, 0.9333333333333333, 0.9333333333333333, 0.9333333333333333, 0.9666666666666667, 0.9666666666666667, 0.9666666666666667, 0.9666666666666667], '4': [0.9, 0.9, 0.9333333333333333, 0.9333333333333333, 0.9333333333333333, 0.9666666666666667, 0.9666666666666667, 0.9666666666666667, 0.9666666666666667], '5': [0.9, 0.9, 0.9333333333333333, 0.9333333333333333, 0.9333333333333333, 0.9666666666666667, 0.9666666666666667, 0.9666666666666667, 0.9666666666666667], '6': [0.9, 0.9, 0.9333333333333333, 0.9333333333333333, 0.9333333333333333, 0.9666666666666667, 0.9666666666666667, 0.9666666666666667, 0.9666666666666667], '7': [0.9, 0.9, 0.9333333333333333, 0.9333333333333333, 0.9333333333333333, 0.9666666666666667, 0.9666666666666667, 0.9666666666666667, 0.9666666666666667], '8': [0.9, 0.9, 0.9333333333333333, 0.9333333333333333, 0.9333333333333333, 0.9666666666666667, 0.9666666666666667, 0.9666666666666667, 0.9666666666666667], '9': [0.9, 0.9, 0.9333333333333333, 0.9333333333333333, 0.9333333333333333, 0.9666666666666667, 0.9666666666666667, 0.9666666666666667, 0.9666666666666667]}, '4': {'1': [1.0, 1.0, 1.0, 1.0, 1.0, 1.0, 1.0, 1.0, 1.0], '2': [1.0, 1.0, 1.0, 1.0, 1.0, 1.0, 1.0, 1.0, 1.0], '3': [1.0, 1.0, 1.0, 1.0, 1.0, 1.0, 1.0, 1.0, 1.0], '4': [1.0, 1.0, 1.0, 1.0, 1.0, 1.0, 1.0, 1.0, 1.0], '5': [1.0, 1.0, 1.0, 1.0, 1.0, 1.0, 1.0, 1.0, 1.0], '6': [1.0, 1.0, 1.0, 1.0, 1.0, 1.0, 1.0, 1.0, 1.0], '7': [1.0, 1.0, 1.0, 1.0, 1.0, 1.0, 1.0, 1.0, 1.0], '8': [1.0, 1.0, 1.0, 1.0, 1.0, 1.0, 1.0, 1.0, 1.0], '9': [1.0, 1.0, 1.0, 1.0, 1.0, 1.0, 1.0, 1.0, 1.0]}}\n"
     ]
    }
   ],
   "source": [
    "knn_diff={}\n",
    "\n",
    "\n",
    "for i in range(0,len(train)):\n",
    "    g={}\n",
    "    k=[]\n",
    "    z=str(i)\n",
    "    for j in range(1,10):\n",
    "        y=str(j)\n",
    "      \n",
    "        neigh = KNeighborsClassifier(n_neighbors=j)\n",
    "        neigh.fit(train[i].iloc[:,1:5],train[i].iloc[:,-1:])\n",
    "        predict_neigh=neigh.predict(test[i].iloc[:,1:5])\n",
    "        acc=accuracy_score(test[i].iloc[:,-1:],predict_neigh)\n",
    "        #print(predict_neigh)\n",
    "        #print(test[i].iloc[:9,-1:])\n",
    "        k.append(acc)\n",
    "        g[y]=(k)\n",
    "    knn_diff[z]=g\n",
    "\n",
    "print(knn_diff)"
   ]
  },
  {
   "cell_type": "markdown",
   "metadata": {},
   "source": [
    "## 3.EFFECT OF K on ACCURACY:\n",
    "1.\tWe tend to determine the various accuracy for different K values.\n",
    "2.\tEach fold must be tested for each K value\n",
    "3.\tRun a For loop for each fold\n",
    "4.\tRun an inside for loop for each value of K\n",
    "5.\tWe obtain a lists of list which contains Each folds and accuracy for each K value ranging from 1 to 15.\n",
    "6.\tWe group and sum each accuracy based on the K value for different folds\n",
    "7.\tFor E.g.: adding up K value=1 for Fold1, Fold2,Fold3,Fold4,Fold5 and taking an average.\n",
    "8.\tWe finally arrive average accuracy for each K value ranging from 1-15 grouped Folds.\n",
    "\n"
   ]
  },
  {
   "cell_type": "code",
   "execution_count": 226,
   "metadata": {},
   "outputs": [
    {
     "name": "stdout",
     "output_type": "stream",
     "text": [
      "[0.94666667 0.93333333 0.97333333 0.96       0.96666667 0.97333333\n",
      " 0.98       0.98       0.98       0.98666667 0.97333333 0.98\n",
      " 0.98       0.98666667 0.98      ]\n"
     ]
    }
   ],
   "source": [
    "import warnings\n",
    "warnings.filterwarnings('ignore')\n",
    "knn_diff=[]\n",
    "\n",
    "k_value=16\n",
    "for i in range(0,len(train)):\n",
    "    g=[]\n",
    "    k=[]\n",
    "    z=str(i)\n",
    "    \n",
    "    for j in range(1,k_value):\n",
    "        y=str(j)\n",
    "        acc_sum_k=0\n",
    "        neigh = KNeighborsClassifier(n_neighbors=j)\n",
    "        neigh.fit(train[i].iloc[:,1:5],train[i].iloc[:,-1:])\n",
    "        predict_neigh=neigh.predict(test[i].iloc[:,1:5])\n",
    "        acc=accuracy_score(test[i].iloc[:,-1:],predict_neigh)\n",
    "        #print(predict_neigh)\n",
    "        #print(test[i].iloc[:9,-1:])\n",
    "        \n",
    "        k.append(acc)\n",
    "   \n",
    "    knn_diff.append(k)\n",
    "#print(knn_diff)\n",
    "\n",
    "sum_k = np.sum(knn_diff,0)\n",
    "\n",
    "avg_k=sum_k/len(knn_diff)\n",
    "\n",
    "print(avg_k)"
   ]
  },
  {
   "cell_type": "markdown",
   "metadata": {},
   "source": [
    "## 3. EVALUATING IMPACT OF K ON ACCURACY"
   ]
  },
  {
   "cell_type": "code",
   "execution_count": 231,
   "metadata": {},
   "outputs": [
    {
     "data": {
      "image/png": "[encoded data removed]",
      "text/plain": [
       "<Figure size 432x288 with 1 Axes>"
      ]
     },
     "metadata": {
      "needs_background": "light"
     },
     "output_type": "display_data"
    }
   ],
   "source": [
    "import matplotlib.pyplot as plt\n",
    "plt.bar([y for y in range(k_value-1)], avg_k)\n",
    "plt.ylim([0.9,1])\n",
    "plt.xlabel(\"Number of Neighbors K\")\n",
    "plt.ylabel(\"Average Accuracy\")\n",
    "plt.title(\"Average Accuracy vs K\")\n",
    "plt.show()"
   ]
  },
  {
   "cell_type": "markdown",
   "metadata": {},
   "source": [
    "## Maximum K value"
   ]
  },
  {
   "cell_type": "code",
   "execution_count": 233,
   "metadata": {},
   "outputs": [
    {
     "name": "stdout",
     "output_type": "stream",
     "text": [
      "0.9866666666666667\n"
     ]
    },
    {
     "data": {
      "text/plain": [
       "9"
      ]
     },
     "execution_count": 233,
     "metadata": {},
     "output_type": "execute_result"
    }
   ],
   "source": [
    "print(avg_k.max())\n",
    "max=np.argmax(avg_k)\n",
    "max\n"
   ]
  },
  {
   "cell_type": "markdown",
   "metadata": {},
   "source": [
    "## 4. COMPARISON OF KNN AND DECISSION TREE"
   ]
  },
  {
   "cell_type": "code",
   "execution_count": 236,
   "metadata": {},
   "outputs": [
    {
     "data": {
      "image/png": "[encoded data removed]",
      "text/plain": [
       "<Figure size 432x288 with 1 Axes>"
      ]
     },
     "metadata": {
      "needs_background": "light"
     },
     "output_type": "display_data"
    }
   ],
   "source": [
    "\n",
    "obj = ('k-NN', 'Decision Tree')\n",
    "ypos=np.arange(len(obj))\n",
    "plt.bar(np.arange(2), [avg_k[9],aggreagate_accuracy_dt])\n",
    "plt.ylim([0.94,1])\n",
    "plt.xlabel(\"Two Different Classifiers\")\n",
    "plt.ylabel(\"Average Accuracy\")\n",
    "plt.title(\"Knn and Decission Tree Comparison\")\n",
    "plt.xticks(ypos, obj)\n",
    "plt.show()"
   ]
  },
  {
   "cell_type": "code",
   "execution_count": null,
   "metadata": {},
   "outputs": [],
   "source": []
  },
  {
   "cell_type": "code",
   "execution_count": null,
   "metadata": {},
   "outputs": [],
   "source": []
  },
  {
   "cell_type": "code",
   "execution_count": null,
   "metadata": {},
   "outputs": [],
   "source": []
  }
 ],
 "metadata": {
  "kernelspec": {
   "display_name": "Python 3",
   "language": "python",
   "name": "python3"
  },
  "language_info": {
   "codemirror_mode": {
    "name": "ipython",
    "version": 3
   },
   "file_extension": ".py",
   "mimetype": "text/x-python",
   "name": "python",
   "nbconvert_exporter": "python",
   "pygments_lexer": "ipython3",
   "version": "3.7.4"
  }
 },
 "nbformat": 4,
 "nbformat_minor": 4
}
