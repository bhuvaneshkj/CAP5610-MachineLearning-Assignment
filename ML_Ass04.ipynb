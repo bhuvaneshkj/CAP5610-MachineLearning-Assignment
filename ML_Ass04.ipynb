{
 "cells": [
  {
   "cell_type": "code",
   "execution_count": 49,
   "metadata": {},
   "outputs": [],
   "source": [
    "import pandas as pd\n",
    "import numpy as np\n",
    "from sklearn.naive_bayes import GaussianNB\n"
   ]
  },
  {
   "cell_type": "code",
   "execution_count": 133,
   "metadata": {},
   "outputs": [
    {
     "data": {
      "text/html": [
       "<div>\n",
       "<style scoped>\n",
       "    .dataframe tbody tr th:only-of-type {\n",
       "        vertical-align: middle;\n",
       "    }\n",
       "\n",
       "    .dataframe tbody tr th {\n",
       "        vertical-align: top;\n",
       "    }\n",
       "\n",
       "    .dataframe thead th {\n",
       "        text-align: right;\n",
       "    }\n",
       "</style>\n",
       "<table border=\"1\" class=\"dataframe\">\n",
       "  <thead>\n",
       "    <tr style=\"text-align: right;\">\n",
       "      <th></th>\n",
       "      <th>Is_Home_or_Away</th>\n",
       "      <th>Is_Opponent_in_AP25_Preseason</th>\n",
       "      <th>Media</th>\n",
       "    </tr>\n",
       "  </thead>\n",
       "  <tbody>\n",
       "    <tr>\n",
       "      <td>0</td>\n",
       "      <td>Home</td>\n",
       "      <td>Out</td>\n",
       "      <td>NBC</td>\n",
       "    </tr>\n",
       "    <tr>\n",
       "      <td>1</td>\n",
       "      <td>Home</td>\n",
       "      <td>In</td>\n",
       "      <td>NBC</td>\n",
       "    </tr>\n",
       "    <tr>\n",
       "      <td>2</td>\n",
       "      <td>Away</td>\n",
       "      <td>Out</td>\n",
       "      <td>ESPN</td>\n",
       "    </tr>\n",
       "    <tr>\n",
       "      <td>3</td>\n",
       "      <td>Away</td>\n",
       "      <td>Out</td>\n",
       "      <td>FOX</td>\n",
       "    </tr>\n",
       "    <tr>\n",
       "      <td>4</td>\n",
       "      <td>Home</td>\n",
       "      <td>Out</td>\n",
       "      <td>NBC</td>\n",
       "    </tr>\n",
       "  </tbody>\n",
       "</table>\n",
       "</div>"
      ],
      "text/plain": [
       "  Is_Home_or_Away Is_Opponent_in_AP25_Preseason Media\n",
       "0            Home                           Out   NBC\n",
       "1            Home                            In   NBC\n",
       "2            Away                           Out  ESPN\n",
       "3            Away                           Out   FOX\n",
       "4            Home                           Out   NBC"
      ]
     },
     "execution_count": 133,
     "metadata": {},
     "output_type": "execute_result"
    }
   ],
   "source": [
    "\n",
    "train_df=pd.read_csv(r'C:\\Users\\chat2\\OneDrive\\Desktop\\MachineLearning\\HW-3\\task5_train.csv')\n",
    "train_df.head()\n",
    "test_df=pd.read_csv(r'C:\\Users\\chat2\\OneDrive\\Desktop\\MachineLearning\\HW-3\\task5_test.csv')\n",
    "test_df\n",
    "df=pd.concat((train_df,test_df))\n",
    "df.columns\n",
    "test_df.count()\n",
    "df3_train=train_df.rename(columns={\"Label\":\"Decision\"})\n",
    "df3_train.drop(columns=['ID'],inplace=True)\n",
    "df3_train\n",
    "df3_test=test_df.rename(columns={\"Label\":\"Decision\"})\n",
    "df3_test.drop(columns=['ID'],inplace=True)\n",
    "Y_id3=df3_test.iloc[:,:-1]\n",
    "Y_id3.values[0]\n",
    "Y_id3.iloc[0:5,:]\n"
   ]
  },
  {
   "cell_type": "code",
   "execution_count": 62,
   "metadata": {},
   "outputs": [],
   "source": [
    "df2=pd.get_dummies(df,columns=['Is_Home_or_Away','Is_Opponent_in_AP25_Preseason','Media','Label'])\n",
    "x_train=df2.iloc[0:24,1:-2]\n",
    "y_train=df2.iloc[0:24,-1:]\n",
    "x_test=df2.iloc[24:36,1:-2]\n",
    "y_test=df2.iloc[24:36,-1:]\n"
   ]
  },
  {
   "cell_type": "code",
   "execution_count": 46,
   "metadata": {},
   "outputs": [],
   "source": [
    "# now preparing our model as per Gaussian Naive Bayesian\n",
    "\n",
    "from sklearn.naive_bayes import GaussianNB\n",
    "\n",
    "model = GaussianNB().fit(x_train,y_train.values.ravel())"
   ]
  },
  {
   "cell_type": "code",
   "execution_count": 63,
   "metadata": {},
   "outputs": [
    {
     "data": {
      "text/plain": [
       "12"
      ]
     },
     "execution_count": 63,
     "metadata": {},
     "output_type": "execute_result"
    }
   ],
   "source": [
    "y_pred=model.predict(x_test)\n",
    "y_pred.size"
   ]
  },
  {
   "cell_type": "code",
   "execution_count": 71,
   "metadata": {},
   "outputs": [
    {
     "name": "stdout",
     "output_type": "stream",
     "text": [
      "Prediction label [1 1 1 0 1 1 1 1 1 1 1 1]\n",
      "actual label [1 0 1 1 1 1 1 1 1 0 1 0]\n"
     ]
    }
   ],
   "source": [
    "print(\"Prediction label\",y_pred.ravel())\n",
    "print(\"actual label\",y_test.values.ravel())"
   ]
  },
  {
   "cell_type": "code",
   "execution_count": 67,
   "metadata": {},
   "outputs": [
    {
     "name": "stdout",
     "output_type": "stream",
     "text": [
      "Accuracy: 66.66666666666666\n",
      "Precission: 0.7272727272727273\n",
      "Recall: 0.8888888888888888\n",
      "F1: 0.7999999999999999\n"
     ]
    }
   ],
   "source": [
    "from sklearn import metrics\n",
    "print(\"Accuracy:\",metrics.accuracy_score(y_test, y_pred)*100)\n",
    "print(\"Precission:\",metrics.precision_score(y_test, y_pred))\n",
    "print(\"Recall:\",metrics.recall_score(y_test, y_pred))\n",
    "print(\"F1:\",metrics.f1_score(y_test, y_pred))"
   ]
  },
  {
   "cell_type": "code",
   "execution_count": 85,
   "metadata": {},
   "outputs": [
    {
     "data": {
      "text/html": [
       "<div>\n",
       "<style scoped>\n",
       "    .dataframe tbody tr th:only-of-type {\n",
       "        vertical-align: middle;\n",
       "    }\n",
       "\n",
       "    .dataframe tbody tr th {\n",
       "        vertical-align: top;\n",
       "    }\n",
       "\n",
       "    .dataframe thead th {\n",
       "        text-align: right;\n",
       "    }\n",
       "</style>\n",
       "<table border=\"1\" class=\"dataframe\">\n",
       "  <thead>\n",
       "    <tr style=\"text-align: right;\">\n",
       "      <th></th>\n",
       "      <th>Predicted Label</th>\n",
       "    </tr>\n",
       "  </thead>\n",
       "  <tbody>\n",
       "    <tr>\n",
       "      <td>0</td>\n",
       "      <td>1</td>\n",
       "    </tr>\n",
       "    <tr>\n",
       "      <td>1</td>\n",
       "      <td>1</td>\n",
       "    </tr>\n",
       "    <tr>\n",
       "      <td>2</td>\n",
       "      <td>1</td>\n",
       "    </tr>\n",
       "    <tr>\n",
       "      <td>3</td>\n",
       "      <td>0</td>\n",
       "    </tr>\n",
       "    <tr>\n",
       "      <td>4</td>\n",
       "      <td>1</td>\n",
       "    </tr>\n",
       "    <tr>\n",
       "      <td>5</td>\n",
       "      <td>1</td>\n",
       "    </tr>\n",
       "    <tr>\n",
       "      <td>6</td>\n",
       "      <td>1</td>\n",
       "    </tr>\n",
       "    <tr>\n",
       "      <td>7</td>\n",
       "      <td>1</td>\n",
       "    </tr>\n",
       "    <tr>\n",
       "      <td>8</td>\n",
       "      <td>1</td>\n",
       "    </tr>\n",
       "    <tr>\n",
       "      <td>9</td>\n",
       "      <td>1</td>\n",
       "    </tr>\n",
       "    <tr>\n",
       "      <td>10</td>\n",
       "      <td>1</td>\n",
       "    </tr>\n",
       "    <tr>\n",
       "      <td>11</td>\n",
       "      <td>1</td>\n",
       "    </tr>\n",
       "  </tbody>\n",
       "</table>\n",
       "</div>"
      ],
      "text/plain": [
       "    Predicted Label\n",
       "0                 1\n",
       "1                 1\n",
       "2                 1\n",
       "3                 0\n",
       "4                 1\n",
       "5                 1\n",
       "6                 1\n",
       "7                 1\n",
       "8                 1\n",
       "9                 1\n",
       "10                1\n",
       "11                1"
      ]
     },
     "execution_count": 85,
     "metadata": {},
     "output_type": "execute_result"
    }
   ],
   "source": [
    "Label = pd.DataFrame(y_pred,columns=[\"Predicted Label\"]) \n",
    "Label \n"
   ]
  },
  {
   "cell_type": "code",
   "execution_count": 123,
   "metadata": {},
   "outputs": [
    {
     "name": "stdout",
     "output_type": "stream",
     "text": [
      "ID3  tree is going to be built...\n",
      "Accuracy:  75.0 % on  24  instances\n",
      "finished in  0.532696008682251  seconds\n"
     ]
    }
   ],
   "source": [
    "from chefboost import Chefboost as chef\n",
    "config = {'algorithm': 'ID3'}\n",
    "model = chef.fit(df3_train, config)"
   ]
  },
  {
   "cell_type": "code",
   "execution_count": 136,
   "metadata": {},
   "outputs": [],
   "source": [
    "prediction_id3 = chef.predict(model,Y_id3.iloc[0,:])"
   ]
  },
  {
   "cell_type": "code",
   "execution_count": 110,
   "metadata": {},
   "outputs": [
    {
     "name": "stdout",
     "output_type": "stream",
     "text": [
      "C4.5  tree is going to be built...\n",
      "Accuracy:  80.55555555555556 % on  36  instances\n",
      "finished in  0.5537183284759521  seconds\n"
     ]
    }
   ],
   "source": [
    "from chefboost import Chefboost as chef\n",
    "config = {'algorithm': 'C4.5'}\n",
    "model = chef.fit(df3, config)"
   ]
  },
  {
   "cell_type": "code",
   "execution_count": null,
   "metadata": {},
   "outputs": [],
   "source": []
  },
  {
   "cell_type": "code",
   "execution_count": null,
   "metadata": {},
   "outputs": [],
   "source": []
  },
  {
   "cell_type": "code",
   "execution_count": null,
   "metadata": {},
   "outputs": [],
   "source": []
  },
  {
   "cell_type": "code",
   "execution_count": null,
   "metadata": {},
   "outputs": [],
   "source": []
  },
  {
   "cell_type": "code",
   "execution_count": null,
   "metadata": {},
   "outputs": [],
   "source": []
  },
  {
   "cell_type": "code",
   "execution_count": null,
   "metadata": {},
   "outputs": [],
   "source": []
  },
  {
   "cell_type": "code",
   "execution_count": null,
   "metadata": {},
   "outputs": [],
   "source": []
  },
  {
   "cell_type": "code",
   "execution_count": null,
   "metadata": {},
   "outputs": [],
   "source": []
  },
  {
   "cell_type": "code",
   "execution_count": null,
   "metadata": {},
   "outputs": [],
   "source": []
  },
  {
   "cell_type": "code",
   "execution_count": null,
   "metadata": {},
   "outputs": [],
   "source": [
    "# le = preprocessing.LabelEncoder()\n",
    "# e=train_df[['Is_Home_or_Away']].values\n",
    "# e1=train_df[['Is_Opponent_in_AP25_Preseason']].values\n",
    "# e2=train_df[['Media']].values\n",
    "# e3=train_df[['Label']].values\n",
    "# train_df['Is_Home_or_Away']=le.fit_transform(e)\n",
    "# train_df['Is_Opponent_in_AP25_Preseason']=le.fit_transform(e1)\n",
    "# train_df['Media']=le.fit_transform(e2)\n",
    "# train_df['Label']=le.fit_transform(e3)\n",
    "\n",
    "# X_train=train_df[['Is_Home_or_Away','Is_Opponent_in_AP25_Preseason','Media']]\n",
    "# Y_train=train_df[['Label']]\n",
    "\n",
    "# d=test_df[['Is_Home_or_Away']].values\n",
    "# d1=test_df[['Is_Opponent_in_AP25_Preseason']].values\n",
    "# d2=test_df[['Media']].values\n",
    "# d3=test_df[['Label']].values\n",
    "# test_df['Is_Home_or_Away']=le.fit_transform(d)\n",
    "# test_df['Is_Opponent_in_AP25_Preseason']=le.fit_transform(d1)\n",
    "# test_df['Media']=le.fit_transform(d2)\n",
    "# test_df['Label']=le.fit_transform(d3)\n",
    "\n",
    "# X_test=test_df[['Is_Home_or_Away','Is_Opponent_in_AP25_Preseason','Media']]\n",
    "# Y_test=test_df[['Label']]\n",
    "# X_test"
   ]
  }
 ],
 "metadata": {
  "kernelspec": {
   "display_name": "Python 3",
   "language": "python",
   "name": "python3"
  },
  "language_info": {
   "codemirror_mode": {
    "name": "ipython",
    "version": 3
   },
   "file_extension": ".py",
   "mimetype": "text/x-python",
   "name": "python",
   "nbconvert_exporter": "python",
   "pygments_lexer": "ipython3",
   "version": "3.7.4"
  }
 },
 "nbformat": 4,
 "nbformat_minor": 4
}
